{
  "cells": [
    {
      "cell_type": "markdown",
      "id": "1a5e95e0",
      "metadata": {
        "id": "1a5e95e0"
      },
      "source": [
        "# Convert and visualize text bounding boxes\n",
        "\n",
        "\n",
        "In this example we will use the output of the converted document and create an image of elements detected on each page.\n",
        "\n",
        "\n"
      ]
    },
    {
      "cell_type": "code",
      "source": [
        "pip install deepsearch-toolkit"
      ],
      "metadata": {
        "colab": {
          "base_uri": "https://localhost:8080/"
        },
        "id": "D6-MVcUMP2a2",
        "outputId": "ccc50bb8-7b46-46b5-d902-68f6b3ea173b"
      },
      "id": "D6-MVcUMP2a2",
      "execution_count": 1,
      "outputs": [
        {
          "output_type": "stream",
          "name": "stdout",
          "text": [
            "Looking in indexes: https://pypi.org/simple, https://us-python.pkg.dev/colab-wheels/public/simple/\n",
            "Requirement already satisfied: deepsearch-toolkit in /usr/local/lib/python3.10/dist-packages (0.14.0)\n",
            "Requirement already satisfied: appdirs<2.0.0,>=1.4.4 in /usr/local/lib/python3.10/dist-packages (from deepsearch-toolkit) (1.4.4)\n",
            "Requirement already satisfied: certifi<2022.0.0,>=2021.10.8 in /usr/local/lib/python3.10/dist-packages (from deepsearch-toolkit) (2021.10.8)\n",
            "Requirement already satisfied: fastapi<0.96.0,>=0.95.1 in /usr/local/lib/python3.10/dist-packages (from deepsearch-toolkit) (0.95.2)\n",
            "Requirement already satisfied: ipython-blocking<0.4.0,>=0.3.1 in /usr/local/lib/python3.10/dist-packages (from deepsearch-toolkit) (0.3.1)\n",
            "Requirement already satisfied: ipywidgets<8.0.0,>=7.6.5 in /usr/local/lib/python3.10/dist-packages (from deepsearch-toolkit) (7.7.1)\n",
            "Requirement already satisfied: pluggy<2.0.0,>=1.0.0 in /usr/local/lib/python3.10/dist-packages (from deepsearch-toolkit) (1.0.0)\n",
            "Requirement already satisfied: pydantic<2.0.0,>=1.9.0 in /usr/local/lib/python3.10/dist-packages (from deepsearch-toolkit) (1.10.7)\n",
            "Requirement already satisfied: python-dateutil<3.0.0,>=2.8.2 in /usr/local/lib/python3.10/dist-packages (from deepsearch-toolkit) (2.8.2)\n",
            "Requirement already satisfied: python-jose<4.0.0,>=3.3.0 in /usr/local/lib/python3.10/dist-packages (from deepsearch-toolkit) (3.3.0)\n",
            "Requirement already satisfied: requests<3.0.0,>=2.27.1 in /usr/local/lib/python3.10/dist-packages (from deepsearch-toolkit) (2.27.1)\n",
            "Requirement already satisfied: six<2.0.0,>=1.16.0 in /usr/local/lib/python3.10/dist-packages (from deepsearch-toolkit) (1.16.0)\n",
            "Requirement already satisfied: tabulate<0.9.0,>=0.8.9 in /usr/local/lib/python3.10/dist-packages (from deepsearch-toolkit) (0.8.10)\n",
            "Requirement already satisfied: tqdm<5.0.0,>=4.64.0 in /usr/local/lib/python3.10/dist-packages (from deepsearch-toolkit) (4.65.0)\n",
            "Requirement already satisfied: typer<0.5.0,>=0.4.0 in /usr/local/lib/python3.10/dist-packages (from deepsearch-toolkit) (0.4.2)\n",
            "Requirement already satisfied: urllib3<2.0.0,>=1.26.8 in /usr/local/lib/python3.10/dist-packages (from deepsearch-toolkit) (1.26.15)\n",
            "Requirement already satisfied: uvicorn<0.22.0,>=0.21.1 in /usr/local/lib/python3.10/dist-packages (from deepsearch-toolkit) (0.21.1)\n",
            "Requirement already satisfied: starlette<0.28.0,>=0.27.0 in /usr/local/lib/python3.10/dist-packages (from fastapi<0.96.0,>=0.95.1->deepsearch-toolkit) (0.27.0)\n",
            "Requirement already satisfied: IPython in /usr/local/lib/python3.10/dist-packages (from ipython-blocking<0.4.0,>=0.3.1->deepsearch-toolkit) (7.34.0)\n",
            "Requirement already satisfied: nbclient in /usr/local/lib/python3.10/dist-packages (from ipython-blocking<0.4.0,>=0.3.1->deepsearch-toolkit) (0.7.4)\n",
            "Requirement already satisfied: ipykernel>=4.5.1 in /usr/local/lib/python3.10/dist-packages (from ipywidgets<8.0.0,>=7.6.5->deepsearch-toolkit) (5.5.6)\n",
            "Requirement already satisfied: ipython-genutils~=0.2.0 in /usr/local/lib/python3.10/dist-packages (from ipywidgets<8.0.0,>=7.6.5->deepsearch-toolkit) (0.2.0)\n",
            "Requirement already satisfied: traitlets>=4.3.1 in /usr/local/lib/python3.10/dist-packages (from ipywidgets<8.0.0,>=7.6.5->deepsearch-toolkit) (5.7.1)\n",
            "Requirement already satisfied: widgetsnbextension~=3.6.0 in /usr/local/lib/python3.10/dist-packages (from ipywidgets<8.0.0,>=7.6.5->deepsearch-toolkit) (3.6.4)\n",
            "Requirement already satisfied: jupyterlab-widgets>=1.0.0 in /usr/local/lib/python3.10/dist-packages (from ipywidgets<8.0.0,>=7.6.5->deepsearch-toolkit) (3.0.7)\n",
            "Requirement already satisfied: typing-extensions>=4.2.0 in /usr/local/lib/python3.10/dist-packages (from pydantic<2.0.0,>=1.9.0->deepsearch-toolkit) (4.5.0)\n",
            "Requirement already satisfied: ecdsa!=0.15 in /usr/local/lib/python3.10/dist-packages (from python-jose<4.0.0,>=3.3.0->deepsearch-toolkit) (0.18.0)\n",
            "Requirement already satisfied: rsa in /usr/local/lib/python3.10/dist-packages (from python-jose<4.0.0,>=3.3.0->deepsearch-toolkit) (4.9)\n",
            "Requirement already satisfied: pyasn1 in /usr/local/lib/python3.10/dist-packages (from python-jose<4.0.0,>=3.3.0->deepsearch-toolkit) (0.5.0)\n",
            "Requirement already satisfied: charset-normalizer~=2.0.0 in /usr/local/lib/python3.10/dist-packages (from requests<3.0.0,>=2.27.1->deepsearch-toolkit) (2.0.12)\n",
            "Requirement already satisfied: idna<4,>=2.5 in /usr/local/lib/python3.10/dist-packages (from requests<3.0.0,>=2.27.1->deepsearch-toolkit) (3.4)\n",
            "Requirement already satisfied: click<9.0.0,>=7.1.1 in /usr/local/lib/python3.10/dist-packages (from typer<0.5.0,>=0.4.0->deepsearch-toolkit) (8.1.3)\n",
            "Requirement already satisfied: h11>=0.8 in /usr/local/lib/python3.10/dist-packages (from uvicorn<0.22.0,>=0.21.1->deepsearch-toolkit) (0.14.0)\n",
            "Requirement already satisfied: jupyter-client in /usr/local/lib/python3.10/dist-packages (from ipykernel>=4.5.1->ipywidgets<8.0.0,>=7.6.5->deepsearch-toolkit) (6.1.12)\n",
            "Requirement already satisfied: tornado>=4.2 in /usr/local/lib/python3.10/dist-packages (from ipykernel>=4.5.1->ipywidgets<8.0.0,>=7.6.5->deepsearch-toolkit) (6.3.1)\n",
            "Requirement already satisfied: setuptools>=18.5 in /usr/local/lib/python3.10/dist-packages (from IPython->ipython-blocking<0.4.0,>=0.3.1->deepsearch-toolkit) (67.7.2)\n",
            "Requirement already satisfied: jedi>=0.16 in /usr/local/lib/python3.10/dist-packages (from IPython->ipython-blocking<0.4.0,>=0.3.1->deepsearch-toolkit) (0.18.2)\n",
            "Requirement already satisfied: decorator in /usr/local/lib/python3.10/dist-packages (from IPython->ipython-blocking<0.4.0,>=0.3.1->deepsearch-toolkit) (4.4.2)\n",
            "Requirement already satisfied: pickleshare in /usr/local/lib/python3.10/dist-packages (from IPython->ipython-blocking<0.4.0,>=0.3.1->deepsearch-toolkit) (0.7.5)\n",
            "Requirement already satisfied: prompt-toolkit!=3.0.0,!=3.0.1,<3.1.0,>=2.0.0 in /usr/local/lib/python3.10/dist-packages (from IPython->ipython-blocking<0.4.0,>=0.3.1->deepsearch-toolkit) (3.0.38)\n",
            "Requirement already satisfied: pygments in /usr/local/lib/python3.10/dist-packages (from IPython->ipython-blocking<0.4.0,>=0.3.1->deepsearch-toolkit) (2.14.0)\n",
            "Requirement already satisfied: backcall in /usr/local/lib/python3.10/dist-packages (from IPython->ipython-blocking<0.4.0,>=0.3.1->deepsearch-toolkit) (0.2.0)\n",
            "Requirement already satisfied: matplotlib-inline in /usr/local/lib/python3.10/dist-packages (from IPython->ipython-blocking<0.4.0,>=0.3.1->deepsearch-toolkit) (0.1.6)\n",
            "Requirement already satisfied: pexpect>4.3 in /usr/local/lib/python3.10/dist-packages (from IPython->ipython-blocking<0.4.0,>=0.3.1->deepsearch-toolkit) (4.8.0)\n",
            "Requirement already satisfied: anyio<5,>=3.4.0 in /usr/local/lib/python3.10/dist-packages (from starlette<0.28.0,>=0.27.0->fastapi<0.96.0,>=0.95.1->deepsearch-toolkit) (3.6.2)\n",
            "Requirement already satisfied: notebook>=4.4.1 in /usr/local/lib/python3.10/dist-packages (from widgetsnbextension~=3.6.0->ipywidgets<8.0.0,>=7.6.5->deepsearch-toolkit) (6.4.8)\n",
            "Requirement already satisfied: jupyter-core!=5.0.*,>=4.12 in /usr/local/lib/python3.10/dist-packages (from nbclient->ipython-blocking<0.4.0,>=0.3.1->deepsearch-toolkit) (5.3.0)\n",
            "Requirement already satisfied: nbformat>=5.1 in /usr/local/lib/python3.10/dist-packages (from nbclient->ipython-blocking<0.4.0,>=0.3.1->deepsearch-toolkit) (5.8.0)\n",
            "Requirement already satisfied: sniffio>=1.1 in /usr/local/lib/python3.10/dist-packages (from anyio<5,>=3.4.0->starlette<0.28.0,>=0.27.0->fastapi<0.96.0,>=0.95.1->deepsearch-toolkit) (1.3.0)\n",
            "Requirement already satisfied: parso<0.9.0,>=0.8.0 in /usr/local/lib/python3.10/dist-packages (from jedi>=0.16->IPython->ipython-blocking<0.4.0,>=0.3.1->deepsearch-toolkit) (0.8.3)\n",
            "Requirement already satisfied: pyzmq>=13 in /usr/local/lib/python3.10/dist-packages (from jupyter-client->ipykernel>=4.5.1->ipywidgets<8.0.0,>=7.6.5->deepsearch-toolkit) (23.2.1)\n",
            "Requirement already satisfied: platformdirs>=2.5 in /usr/local/lib/python3.10/dist-packages (from jupyter-core!=5.0.*,>=4.12->nbclient->ipython-blocking<0.4.0,>=0.3.1->deepsearch-toolkit) (3.3.0)\n",
            "Requirement already satisfied: fastjsonschema in /usr/local/lib/python3.10/dist-packages (from nbformat>=5.1->nbclient->ipython-blocking<0.4.0,>=0.3.1->deepsearch-toolkit) (2.16.3)\n",
            "Requirement already satisfied: jsonschema>=2.6 in /usr/local/lib/python3.10/dist-packages (from nbformat>=5.1->nbclient->ipython-blocking<0.4.0,>=0.3.1->deepsearch-toolkit) (4.3.3)\n",
            "Requirement already satisfied: jinja2 in /usr/local/lib/python3.10/dist-packages (from notebook>=4.4.1->widgetsnbextension~=3.6.0->ipywidgets<8.0.0,>=7.6.5->deepsearch-toolkit) (3.1.2)\n",
            "Requirement already satisfied: argon2-cffi in /usr/local/lib/python3.10/dist-packages (from notebook>=4.4.1->widgetsnbextension~=3.6.0->ipywidgets<8.0.0,>=7.6.5->deepsearch-toolkit) (21.3.0)\n",
            "Requirement already satisfied: nbconvert in /usr/local/lib/python3.10/dist-packages (from notebook>=4.4.1->widgetsnbextension~=3.6.0->ipywidgets<8.0.0,>=7.6.5->deepsearch-toolkit) (6.5.4)\n",
            "Requirement already satisfied: nest-asyncio>=1.5 in /usr/local/lib/python3.10/dist-packages (from notebook>=4.4.1->widgetsnbextension~=3.6.0->ipywidgets<8.0.0,>=7.6.5->deepsearch-toolkit) (1.5.6)\n",
            "Requirement already satisfied: Send2Trash>=1.8.0 in /usr/local/lib/python3.10/dist-packages (from notebook>=4.4.1->widgetsnbextension~=3.6.0->ipywidgets<8.0.0,>=7.6.5->deepsearch-toolkit) (1.8.0)\n",
            "Requirement already satisfied: terminado>=0.8.3 in /usr/local/lib/python3.10/dist-packages (from notebook>=4.4.1->widgetsnbextension~=3.6.0->ipywidgets<8.0.0,>=7.6.5->deepsearch-toolkit) (0.17.1)\n",
            "Requirement already satisfied: prometheus-client in /usr/local/lib/python3.10/dist-packages (from notebook>=4.4.1->widgetsnbextension~=3.6.0->ipywidgets<8.0.0,>=7.6.5->deepsearch-toolkit) (0.16.0)\n",
            "Requirement already satisfied: ptyprocess>=0.5 in /usr/local/lib/python3.10/dist-packages (from pexpect>4.3->IPython->ipython-blocking<0.4.0,>=0.3.1->deepsearch-toolkit) (0.7.0)\n",
            "Requirement already satisfied: wcwidth in /usr/local/lib/python3.10/dist-packages (from prompt-toolkit!=3.0.0,!=3.0.1,<3.1.0,>=2.0.0->IPython->ipython-blocking<0.4.0,>=0.3.1->deepsearch-toolkit) (0.2.6)\n",
            "Requirement already satisfied: attrs>=17.4.0 in /usr/local/lib/python3.10/dist-packages (from jsonschema>=2.6->nbformat>=5.1->nbclient->ipython-blocking<0.4.0,>=0.3.1->deepsearch-toolkit) (23.1.0)\n",
            "Requirement already satisfied: pyrsistent!=0.17.0,!=0.17.1,!=0.17.2,>=0.14.0 in /usr/local/lib/python3.10/dist-packages (from jsonschema>=2.6->nbformat>=5.1->nbclient->ipython-blocking<0.4.0,>=0.3.1->deepsearch-toolkit) (0.19.3)\n",
            "Requirement already satisfied: argon2-cffi-bindings in /usr/local/lib/python3.10/dist-packages (from argon2-cffi->notebook>=4.4.1->widgetsnbextension~=3.6.0->ipywidgets<8.0.0,>=7.6.5->deepsearch-toolkit) (21.2.0)\n",
            "Requirement already satisfied: MarkupSafe>=2.0 in /usr/local/lib/python3.10/dist-packages (from jinja2->notebook>=4.4.1->widgetsnbextension~=3.6.0->ipywidgets<8.0.0,>=7.6.5->deepsearch-toolkit) (2.1.2)\n",
            "Requirement already satisfied: lxml in /usr/local/lib/python3.10/dist-packages (from nbconvert->notebook>=4.4.1->widgetsnbextension~=3.6.0->ipywidgets<8.0.0,>=7.6.5->deepsearch-toolkit) (4.9.2)\n",
            "Requirement already satisfied: beautifulsoup4 in /usr/local/lib/python3.10/dist-packages (from nbconvert->notebook>=4.4.1->widgetsnbextension~=3.6.0->ipywidgets<8.0.0,>=7.6.5->deepsearch-toolkit) (4.11.2)\n",
            "Requirement already satisfied: bleach in /usr/local/lib/python3.10/dist-packages (from nbconvert->notebook>=4.4.1->widgetsnbextension~=3.6.0->ipywidgets<8.0.0,>=7.6.5->deepsearch-toolkit) (6.0.0)\n",
            "Requirement already satisfied: defusedxml in /usr/local/lib/python3.10/dist-packages (from nbconvert->notebook>=4.4.1->widgetsnbextension~=3.6.0->ipywidgets<8.0.0,>=7.6.5->deepsearch-toolkit) (0.7.1)\n",
            "Requirement already satisfied: entrypoints>=0.2.2 in /usr/local/lib/python3.10/dist-packages (from nbconvert->notebook>=4.4.1->widgetsnbextension~=3.6.0->ipywidgets<8.0.0,>=7.6.5->deepsearch-toolkit) (0.4)\n",
            "Requirement already satisfied: jupyterlab-pygments in /usr/local/lib/python3.10/dist-packages (from nbconvert->notebook>=4.4.1->widgetsnbextension~=3.6.0->ipywidgets<8.0.0,>=7.6.5->deepsearch-toolkit) (0.2.2)\n",
            "Requirement already satisfied: mistune<2,>=0.8.1 in /usr/local/lib/python3.10/dist-packages (from nbconvert->notebook>=4.4.1->widgetsnbextension~=3.6.0->ipywidgets<8.0.0,>=7.6.5->deepsearch-toolkit) (0.8.4)\n",
            "Requirement already satisfied: packaging in /usr/local/lib/python3.10/dist-packages (from nbconvert->notebook>=4.4.1->widgetsnbextension~=3.6.0->ipywidgets<8.0.0,>=7.6.5->deepsearch-toolkit) (23.1)\n",
            "Requirement already satisfied: pandocfilters>=1.4.1 in /usr/local/lib/python3.10/dist-packages (from nbconvert->notebook>=4.4.1->widgetsnbextension~=3.6.0->ipywidgets<8.0.0,>=7.6.5->deepsearch-toolkit) (1.5.0)\n",
            "Requirement already satisfied: tinycss2 in /usr/local/lib/python3.10/dist-packages (from nbconvert->notebook>=4.4.1->widgetsnbextension~=3.6.0->ipywidgets<8.0.0,>=7.6.5->deepsearch-toolkit) (1.2.1)\n",
            "Requirement already satisfied: cffi>=1.0.1 in /usr/local/lib/python3.10/dist-packages (from argon2-cffi-bindings->argon2-cffi->notebook>=4.4.1->widgetsnbextension~=3.6.0->ipywidgets<8.0.0,>=7.6.5->deepsearch-toolkit) (1.15.1)\n",
            "Requirement already satisfied: soupsieve>1.2 in /usr/local/lib/python3.10/dist-packages (from beautifulsoup4->nbconvert->notebook>=4.4.1->widgetsnbextension~=3.6.0->ipywidgets<8.0.0,>=7.6.5->deepsearch-toolkit) (2.4.1)\n",
            "Requirement already satisfied: webencodings in /usr/local/lib/python3.10/dist-packages (from bleach->nbconvert->notebook>=4.4.1->widgetsnbextension~=3.6.0->ipywidgets<8.0.0,>=7.6.5->deepsearch-toolkit) (0.5.1)\n",
            "Requirement already satisfied: pycparser in /usr/local/lib/python3.10/dist-packages (from cffi>=1.0.1->argon2-cffi-bindings->argon2-cffi->notebook>=4.4.1->widgetsnbextension~=3.6.0->ipywidgets<8.0.0,>=7.6.5->deepsearch-toolkit) (2.21)\n"
          ]
        }
      ]
    },
    {
      "cell_type": "code",
      "source": [
        "!deepsearch login --output ../../ds-auth.json\n"
      ],
      "metadata": {
        "colab": {
          "base_uri": "https://localhost:8080/"
        },
        "id": "XyxF984cQmgc",
        "outputId": "77063b8a-ec6a-454b-ac2a-3f612145e412"
      },
      "id": "XyxF984cQmgc",
      "execution_count": 2,
      "outputs": [
        {
          "output_type": "stream",
          "name": "stdout",
          "text": [
            "Host [https://deepsearch-experience.res.ibm.com]: \n",
            "Email: \n",
            "Email: david@datamaran.com\n",
            "Api key: \n",
            "Verify ssl [Y/n]: Y\n",
            "\u001b[32mFile ../../ds-auth.json updated!\u001b[0m\n"
          ]
        }
      ]
    },
    {
      "cell_type": "markdown",
      "id": "484b7340",
      "metadata": {
        "id": "484b7340"
      },
      "source": [
        "### Authentication via stored credentials\n",
        "\n",
        "In this example, we initialize the Deep Search client from the credentials\n",
        "contained in the file `../../ds-auth.json`. This can be generated with\n",
        "\n",
        "```shell\n",
        "!deepsearch login --output ../../ds-auth.json\n",
        "```\n",
        "\n",
        "More details in the [docs](https://ds4sd.github.io/deepsearch-toolkit/getting_started/#authentication)."
      ]
    },
    {
      "cell_type": "markdown",
      "id": "5fdc4d28",
      "metadata": {
        "id": "5fdc4d28"
      },
      "source": [
        "### System dependencies\n",
        "This script is converting a PDF document with Deep Search and exports the figures into PNG files.\n",
        "\n",
        "The PDF to image conversion relies on the `pdftoppm` executable of the Poppler library (GPL license)\n",
        "https://poppler.freedesktop.org/\n",
        "The Poppler library can be installed from the most common packaging systems, for example\n",
        "- On macOS, `brew install poppler`\n",
        "- On Debian (and Ubuntu), `apt-get install poppler-utils`\n",
        "- On RHEL, `yum install poppler-utils`\n"
      ]
    },
    {
      "cell_type": "markdown",
      "id": "142d6129",
      "metadata": {
        "id": "142d6129"
      },
      "source": [
        "### Notebooks parameters\n",
        "\n",
        "The following block defines the parameters used to execute the notebook\n",
        "\n",
        "- `CONFIG_FILE`: location of the Deep Search configuration file\n",
        "- `INPUT_FILE`: the input PDF to converted and analyzed\n",
        "- `SHOW_PDF_IMAGE`: if enabled, the background will contain the rendered PDF page\n",
        "- `SHOW_CLUSTER_BOXES`: if enabled, the cluster boxes will be visualized\n",
        "- `SHOW_TEXT_CELLS_BOXES`: if enabled, the PDF raw text cells will be visualized\n"
      ]
    },
    {
      "cell_type": "code",
      "execution_count": 5,
      "id": "efd12ce7",
      "metadata": {
        "colab": {
          "base_uri": "https://localhost:8080/"
        },
        "id": "efd12ce7",
        "outputId": "93094d06-dbb6-4916-b885-c157654fc1cb"
      },
      "outputs": [
        {
          "output_type": "stream",
          "name": "stdout",
          "text": [
            "Drive already mounted at /content/drive/; to attempt to forcibly remount, call drive.mount(\"/content/drive/\", force_remount=True).\n"
          ]
        }
      ],
      "source": [
        "# Input parameters for the example flow\n",
        "from pathlib import Path\n",
        "CONFIG_FILE = Path(\"../../ds-auth.json\")\n",
        "PROJ_KEY = \"1234567890abcdefghijklmnopqrstvwyz123456\"\n",
        "# INPUT_FILE = Path(\"../../data/samples/2206.01062.pdf\")\n",
        "INPUT_FILE = Path(\"../../data/samples/2206.00785.pdf\")\n",
        "\n",
        "\n",
        "from google.colab import drive\n",
        "drive.mount('/content/drive/')\n",
        "\n",
        "INPUT_FILE = \"drive/MyDrive/test_data/850_2022_PRINCIPAL_FINANCIAL_GROUP_fin.pdf\"\n",
        "with open(INPUT_FILE, encoding=\"utf8\", errors='ignore') as file:\n",
        "  content=file.read()\n",
        "\n",
        "\n",
        "# Visualization options. Which layers should be included in the visualization\n",
        "SHOW_PDF_IMAGE = True\n",
        "SHOW_CLUSTER_BOXES = True\n",
        "SHOW_TEXT_CELLS_BOXES = True"
      ]
    },
    {
      "cell_type": "markdown",
      "id": "d12e55af",
      "metadata": {
        "id": "d12e55af"
      },
      "source": [
        "## Helper functions\n",
        "\n",
        "The following blocks define the helper functions used for the visualization of the output"
      ]
    },
    {
      "cell_type": "code",
      "execution_count": 6,
      "id": "f34f9dc1",
      "metadata": {
        "id": "f34f9dc1"
      },
      "outputs": [],
      "source": [
        "# Import standard dependenices\n",
        "import json\n",
        "import tempfile\n",
        "import typing\n",
        "from zipfile import ZipFile\n",
        "\n",
        "# Dependencies for the visualization\n",
        "import math\n",
        "from PIL import Image, ImageDraw\n",
        "from IPython.display import display, Markdown, HTML, display_html\n",
        "import base64\n",
        "import io\n",
        "from subprocess import check_call, CalledProcessError\n",
        "\n",
        "# Import the deepsearch-toolkit\n",
        "import deepsearch as ds"
      ]
    },
    {
      "cell_type": "code",
      "execution_count": 7,
      "id": "659da821",
      "metadata": {
        "id": "659da821"
      },
      "outputs": [],
      "source": [
        "def resolve_item(raw_item, doc):\n",
        "    \"\"\"\n",
        "    Resolved jsonref used in the main-text document items\n",
        "    \"\"\"\n",
        "    if not \"$ref\" in raw_item:\n",
        "        return raw_item\n",
        "    parts = raw_item[\"$ref\"].split(\"/\")\n",
        "    item = doc\n",
        "    for i, k in enumerate(parts[1:]):\n",
        "        if isinstance(item, typing.Mapping) and not k in item:\n",
        "            print(f\"k={k} not found\")\n",
        "            return {}\n",
        "        \n",
        "        if isinstance(item, typing.List):\n",
        "            try:\n",
        "                k = int(k)\n",
        "            except:\n",
        "                print(f\"cannot cast {k} to int\")\n",
        "                return {}\n",
        "        item = item[k]\n",
        "    return item"
      ]
    },
    {
      "cell_type": "code",
      "execution_count": 8,
      "id": "5e27677d",
      "metadata": {
        "scrolled": false,
        "id": "5e27677d"
      },
      "outputs": [],
      "source": [
        "def page_elements_from_json_document(doc_jsondata):\n",
        "    \"\"\"\n",
        "    Collect all the document elements with a bounding box\n",
        "    and organize them per page.\n",
        "\n",
        "    Parameters\n",
        "    ----------\n",
        "    doc_jsondata : \n",
        "        Converted document\n",
        "\n",
        "    Returns\n",
        "    -------\n",
        "    Dict[PageNumber, List[BoxDescription]]\n",
        "        A dictionary mapping the page number to a list of the\n",
        "        document boxes on that page.\n",
        "        BoxDescription will contain the page, type, and bbox.\n",
        "    \"\"\"\n",
        "    clusters = {}\n",
        "    for raw_item in doc_jsondata[\"main-text\"]:\n",
        "        item = resolve_item(raw_item, doc_jsondata)\n",
        "        if not \"prov\" in item:\n",
        "            print(\"PROV not found\")\n",
        "            print(item)\n",
        "            continue\n",
        "        page = item[\"prov\"][0][\"page\"]\n",
        "        item_type = item[\"type\"]\n",
        "        clusters.setdefault(page, []).append({\n",
        "            \"page\": page,\n",
        "            \"type\": item_type,\n",
        "            \"bbox\": item[\"prov\"][0][\"bbox\"],\n",
        "        })\n",
        "    return clusters"
      ]
    },
    {
      "cell_type": "code",
      "execution_count": 9,
      "id": "74d6c68d",
      "metadata": {
        "id": "74d6c68d"
      },
      "outputs": [],
      "source": [
        "def page_elements_from_text_cells(doc_cellsdata):\n",
        "    \"\"\"\n",
        "    Collect all the text cells with a bounding box and\n",
        "    organize them per page.\n",
        "\n",
        "    Parameters\n",
        "    ----------\n",
        "    doc_cellsdata : \n",
        "        Cells document provided by the Deep Search conversion\n",
        "\n",
        "    Returns\n",
        "    -------\n",
        "    Dict[PageNumber, List[BoxDescription]]\n",
        "        A dictionary mapping the page number to a list of the\n",
        "        document boxes on that page.\n",
        "        BoxDescription will contain the page, type, and bbox.\n",
        "    \"\"\"\n",
        "\n",
        "    cells = {}\n",
        "    for item in doc_cellsdata[\"cells\"][\"data\"]:\n",
        "        page = item[0]+1\n",
        "        item_type = item[5]\n",
        "        cells.setdefault(page, []).append({\n",
        "            \"page\": page,\n",
        "            \"type\": item_type,\n",
        "            \"bbox\": item[1:5],\n",
        "        })\n",
        "\n",
        "    return cells"
      ]
    },
    {
      "cell_type": "code",
      "execution_count": 10,
      "id": "7d0aa65c",
      "metadata": {
        "id": "7d0aa65c"
      },
      "outputs": [],
      "source": [
        "# The \n",
        "labels_colors_clusters = {\n",
        "    \"table\": ((240, 128, 128, 100), (255,0,0)),\n",
        "    \"caption\": ((243, 156, 18, 100), (255,0,0)),\n",
        "    \"citation\": ((14, 210, 234, 100), (255,0,0)),\n",
        "    \"picture\": ((255, 236, 204, 100), (255,0,0)),\n",
        "    \"formula\": ((128, 139, 150, 100), (255,0,0)),\n",
        "    \"subtitle-level-1\": ((204, 51, 102, 100), (255,0,0)),\n",
        "    \"paragraph\": ((234, 234, 43, 100), (255,0,0)),\n",
        "}\n",
        "\n",
        "labels_colors_cells = {\n",
        "    \"table\": ((240, 128, 128, 100), (0,0,0,0)),\n",
        "    \"caption\": ((243, 156, 18, 100), (0,0,0,0)),\n",
        "    \"citation\": ((14, 210, 234, 100), (0,0,0,0)),\n",
        "    \"picture\": ((255, 236, 204, 100), (0,0,0,0)),\n",
        "    \"formula\": ((128, 139, 150, 100), (0,0,0,0)),\n",
        "    \"subtitle-level-1\": ((204, 51, 102, 100), (0,0,0,0)),\n",
        "    \"paragraph\": ((234, 234, 43, 100), (0,0,0,0)),\n",
        "}\n",
        "\n",
        "def draw_boxes(img, dims, boxes, colors_map={}):\n",
        "    \"\"\"\n",
        "    Draw bounding boxes on the input PIL Image `img`\n",
        "    \n",
        "    Parameters\n",
        "    ----------\n",
        "    img : Image\n",
        "        PIL image on which the boxes are drawn.\n",
        "    dims : List[int]\n",
        "        Page dimensions as `dims=(width, height)`.\n",
        "    boxes : List[dict]\n",
        "        List of boxes to draw, in the format of `{type: str, bbox: List[int]`}.\n",
        "    colors_map : Dict[str, Tuple[RGBA, RGBA]]\n",
        "        Dictionary with the color to use for the bbox, the map value is a tuple\n",
        "        of style for the fill color and for the line color.\n",
        "        Colors can be defined as a list of RGB or RGBA, with values in the range\n",
        "        0 to 255.\n",
        "    \"\"\"\n",
        "    drw = ImageDraw.Draw(img, \"RGBA\")\n",
        "    for cluster in boxes:\n",
        "\n",
        "        bbox = cluster[\"bbox\"]\n",
        "        rect = [\n",
        "            round(bbox[0]),\n",
        "            round(dims[1]-bbox[1]),\n",
        "            round(bbox[2]),\n",
        "            round(dims[1]-bbox[3])\n",
        "        ]\n",
        "        \n",
        "        c_fill, c_outline = colors_map.get(cluster[\"type\"].lower(), ((128,128,128,100), (0,0,0,0)))\n",
        "        drw.rectangle(rect, outline=c_outline, fill=c_fill)"
      ]
    },
    {
      "cell_type": "code",
      "execution_count": 11,
      "id": "20e546cb",
      "metadata": {
        "id": "20e546cb"
      },
      "outputs": [],
      "source": [
        "def pdf_to_page_image(pdf_filename, page, resolution=72):\n",
        "    \"\"\"\n",
        "    Convert the page number `page` of the PDF document to an image\n",
        "    \n",
        "    Parameters\n",
        "    ----------\n",
        "    pdf_filename : Path\n",
        "        Input PDF file.\n",
        "    page : int\n",
        "        Page number where the bounding box is located.\n",
        "    resolution : int, Default=72\n",
        "        Resolution of the extracted image.\n",
        "\n",
        "    Returns\n",
        "    -------\n",
        "    Image\n",
        "        PIL Image of the PDF page.\n",
        "    \"\"\"\n",
        "\n",
        "    with tempfile.NamedTemporaryFile() as output_file:\n",
        "        output_filename = output_file.name\n",
        "        cmd = [\n",
        "            \"pdftoppm\",\n",
        "            \"-png\",\n",
        "            \"-singlefile\",\n",
        "            \"-f\", str(page), \"-l\", str(page),\n",
        "            \"-cropbox\",\n",
        "            \"-r\", str(resolution),\n",
        "            pdf_filename,\n",
        "            output_filename,\n",
        "        ]\n",
        "        try:\n",
        "            check_call(cmd)\n",
        "        except CalledProcessError as cpe:\n",
        "            raise RuntimeError(\n",
        "                f\"PDFTOPPM PROCESSING ERROR. Exited with: {cpe.returncode}\"\n",
        "            ) from cpe\n",
        "        png_file = output_filename + \".png\"\n",
        "        img = Image.open(png_file)\n",
        "        return img\n"
      ]
    },
    {
      "cell_type": "code",
      "execution_count": 12,
      "id": "2718becb",
      "metadata": {
        "scrolled": false,
        "id": "2718becb"
      },
      "outputs": [],
      "source": [
        "def visualize_document_bboxes(doc_jsondata, doc_cellsdata, ncols=3):\n",
        "    \"\"\"\n",
        "    Visualize the document pages overlaying the PDF image with the \n",
        "    bounding boxes of the text cells and the segmentation clusters.\n",
        "    \n",
        "    Parameters\n",
        "    ----------\n",
        "    doc_jsondata :\n",
        "        Converted document\n",
        "    doc_cellsdata :\n",
        "        Cells document provided by the Deep Search conversion\n",
        "    ncols : int, Default=3\n",
        "        Number of columns in the display table.\n",
        "    \"\"\"\n",
        "    \n",
        "    clusters = page_elements_from_json_document(doc_jsondata)\n",
        "    cells = page_elements_from_text_cells(doc_cellsdata)\n",
        "    pages_to_dims = {dims[\"page\"]: dims for dims in doc_jsondata[\"page-dimensions\"]}\n",
        "    \n",
        "    output_html = \"<table>\"\n",
        "    for i, page in enumerate(sorted(clusters.keys())):\n",
        "        dims = pages_to_dims[page][\"width\"], pages_to_dims[page][\"height\"]\n",
        "        page_cells = cells[page]\n",
        "        page_clusters = clusters[page]\n",
        "\n",
        "        if SHOW_PDF_IMAGE:\n",
        "            img = pdf_to_page_image(INPUT_FILE, page=page)\n",
        "            img = img.resize((math.ceil(dims[0]), math.ceil(dims[1])))\n",
        "        else:\n",
        "            img = Image.new(\"RGB\", (math.ceil(dims[0]), math.ceil(dims[1])), (255, 255, 255))\n",
        "            img = img.resize((math.ceil(dims[0]), math.ceil(dims[1])))\n",
        "\n",
        "        # Draw page rectangle\n",
        "        drw = ImageDraw.Draw(img)\n",
        "        drw.rectangle([0,0,dims[0]-1, dims[1]-1], outline=(0,0,0))\n",
        "\n",
        "        # Draw bounding boxes\n",
        "        if SHOW_TEXT_CELLS_BOXES:\n",
        "            draw_boxes(img, dims, page_cells, labels_colors_cells)\n",
        "        if SHOW_CLUSTER_BOXES:\n",
        "            draw_boxes(img, dims, page_clusters, labels_colors_clusters)\n",
        "\n",
        "        if i == 0:\n",
        "            output_html += \"<tr>\"\n",
        "        elif i % ncols == 0:\n",
        "            output_html += \"</tr><tr>\"\n",
        "\n",
        "\n",
        "        buffer = io.BytesIO()\n",
        "        img.save(buffer, format=\"PNG\")\n",
        "        img_str = base64.b64encode(buffer.getvalue()).decode(\"utf8\")\n",
        "\n",
        "        output_html += \"<td>\"\n",
        "        output_html += f\"<strong>Page {page}</strong><br />\"\n",
        "        output_html += f\"<img src='data:image/png;base64,{img_str}' />\"\n",
        "        output_html += \"</td>\"\n",
        "\n",
        "\n",
        "    output_html += \"</tr></table>\"\n",
        "    display(HTML(output_html))"
      ]
    },
    {
      "cell_type": "markdown",
      "id": "499aad65",
      "metadata": {
        "id": "499aad65"
      },
      "source": [
        "## Document conversion and visualization with Deep Search"
      ]
    },
    {
      "cell_type": "code",
      "execution_count": 13,
      "id": "a8454a53",
      "metadata": {
        "id": "a8454a53"
      },
      "outputs": [],
      "source": [
        "# Initialize the Deep Search client from the config file\n",
        "config = ds.DeepSearchConfig.parse_file(CONFIG_FILE)\n",
        "client = ds.CpsApiClient(config)\n",
        "api = ds.CpsApi(client)"
      ]
    },
    {
      "cell_type": "code",
      "execution_count": 14,
      "id": "5fc7d427",
      "metadata": {
        "colab": {
          "base_uri": "https://localhost:8080/"
        },
        "id": "5fc7d427",
        "outputId": "eb2fd623-48a6-4f38-9a25-8d04cf45155e"
      },
      "outputs": [
        {
          "output_type": "stream",
          "name": "stderr",
          "text": [
            "Processing input:     : 100%|\u001b[38;2;15;98;254m██████████████████████████████\u001b[0m| 1/1 [00:00<00:00, 205.11it/s]\u001b[38;2;15;98;254m\u001b[0m\n",
            "Submitting input:     : 100%|\u001b[38;2;15;98;254m██████████████████████████████\u001b[0m| 1/1 [00:04<00:00,  4.07s/it]\u001b[38;2;15;98;254m\u001b[0m\n",
            "Converting input:     : 100%|\u001b[38;2;15;98;254m██████████████████████████████\u001b[0m| 1/1 [00:42<00:00, 42.62s/it]\u001b[38;2;15;98;254m\u001b[0m\n"
          ]
        }
      ],
      "source": [
        "# Launch the docucment conversion and download the results\n",
        "documents = ds.convert_documents(\n",
        "    api=api, proj_key=PROJ_KEY, source_path=INPUT_FILE, progress_bar=True\n",
        ")"
      ]
    },
    {
      "cell_type": "code",
      "execution_count": 15,
      "id": "3ac07b8c",
      "metadata": {
        "scrolled": false,
        "colab": {
          "base_uri": "https://localhost:8080/"
        },
        "id": "3ac07b8c",
        "outputId": "2d6ef756-1c19-4de1-ca31-f2f275a55ae1"
      },
      "outputs": [
        {
          "output_type": "stream",
          "name": "stdout",
          "text": [
            "created temporary directory /tmp/tmpudj8ibvk\n"
          ]
        },
        {
          "output_type": "stream",
          "name": "stderr",
          "text": [
            "Downloading result:   : 100%|\u001b[38;2;15;98;254m██████████████████████████████\u001b[0m| 1/1 [00:01<00:00,  1.72s/it]\u001b[38;2;15;98;254m\u001b[0m\n"
          ]
        }
      ],
      "source": [
        "import tempfile\n",
        "with tempfile.TemporaryDirectory() as output_dir:\n",
        "     print('created temporary directory', output_dir)\n",
        "\n",
        "documents.download_all(result_dir=output_dir, progress_bar=True)\n",
        "!mv $output_dir /content/drive/MyDrive/test_data/results\n",
        "\n",
        "\n",
        "for output_file in Path(output_dir).rglob(\"json*.zip\"):\n",
        "    with ZipFile(output_file) as archive:\n",
        "        all_files = archive.namelist()\n",
        "        for name in all_files:\n",
        "            if not name.endswith(\".json\"):\n",
        "                continue\n",
        "            \n",
        "            basename = name.rstrip('.json')\n",
        "            doc_jsondata = json.loads(archive.read(f\"{basename}.json\"))\n",
        "            doc_cellsdata = json.loads(archive.read(f\"{basename}.cells\"))                \n",
        "\n",
        "            visualize_document_bboxes(doc_jsondata, doc_cellsdata)"
      ]
    },
    {
      "cell_type": "code",
      "execution_count": 16,
      "id": "579d03bb",
      "metadata": {
        "colab": {
          "base_uri": "https://localhost:8080/"
        },
        "id": "579d03bb",
        "outputId": "180d2d07-01d5-4858-b81f-fd37772ba20a"
      },
      "outputs": [
        {
          "output_type": "execute_result",
          "data": {
            "text/plain": [
              "<deepsearch.cps.client.components.documents.DocumentConversionResult at 0x7fee92886920>"
            ]
          },
          "metadata": {},
          "execution_count": 16
        }
      ],
      "source": [
        "documents"
      ]
    },
    {
      "cell_type": "code",
      "source": [],
      "metadata": {
        "id": "cYzJGmq4OT3e"
      },
      "id": "cYzJGmq4OT3e",
      "execution_count": null,
      "outputs": []
    }
  ],
  "metadata": {
    "kernelspec": {
      "display_name": "Python 3 (ipykernel)",
      "language": "python",
      "name": "python3"
    },
    "language_info": {
      "codemirror_mode": {
        "name": "ipython",
        "version": 3
      },
      "file_extension": ".py",
      "mimetype": "text/x-python",
      "name": "python",
      "nbconvert_exporter": "python",
      "pygments_lexer": "ipython3",
      "version": "3.10.8"
    },
    "vscode": {
      "interpreter": {
        "hash": "aee8b7b246df8f9039afb4144a1f6fd8d2ca17a180786b69acc140d282b71a49"
      }
    },
    "colab": {
      "provenance": []
    }
  },
  "nbformat": 4,
  "nbformat_minor": 5
}